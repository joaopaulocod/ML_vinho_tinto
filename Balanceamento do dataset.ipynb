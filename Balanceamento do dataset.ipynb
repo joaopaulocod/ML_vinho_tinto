{
 "cells": [
  {
   "cell_type": "markdown",
   "id": "93169c13",
   "metadata": {},
   "source": [
    "# Objetivo\n",
    "Verificar o efeito de balancear ou não quando há uma dataset desbalanceado.\n",
    "Para verificar, vamos usar duas funções do sklearn:\n",
    "* Smote: Balanceia o dataset pelo método de oversampling (cria variáveis até possuirem o mesmo tamanho).\n",
    "* NearMiss: Balanceia o dataset pelo método de undersampling (retira variáveis até possuirem o mesmo tamanho)."
   ]
  },
  {
   "cell_type": "markdown",
   "id": "60edff71",
   "metadata": {},
   "source": [
    "# Importando as bibliotecas e o dataset"
   ]
  },
  {
   "cell_type": "code",
   "execution_count": 1,
   "id": "334d9c2b",
   "metadata": {},
   "outputs": [],
   "source": [
    "# Bibliotecas de manipulção e visualização de dados\n",
    "import pandas as pd\n",
    "import numpy as np\n",
    "import matplotlib.pyplot as plt\n",
    "import seaborn as sns\n",
    "\n",
    "# Bibliotecas para modelos de machine learning\n",
    "from sklearn.model_selection import train_test_split\n",
    "from sklearn.preprocessing import StandardScaler\n",
    "from sklearn.tree import DecisionTreeClassifier\n",
    "from imblearn.under_sampling import NearMiss\n",
    "from imblearn.over_sampling import SMOTE\n",
    "from sklearn.metrics import confusion_matrix\n",
    "from sklearn.metrics import classification_report"
   ]
  },
  {
   "cell_type": "code",
   "execution_count": 2,
   "id": "7dcfa276",
   "metadata": {},
   "outputs": [
    {
     "data": {
      "text/html": [
       "<div>\n",
       "<style scoped>\n",
       "    .dataframe tbody tr th:only-of-type {\n",
       "        vertical-align: middle;\n",
       "    }\n",
       "\n",
       "    .dataframe tbody tr th {\n",
       "        vertical-align: top;\n",
       "    }\n",
       "\n",
       "    .dataframe thead th {\n",
       "        text-align: right;\n",
       "    }\n",
       "</style>\n",
       "<table border=\"1\" class=\"dataframe\">\n",
       "  <thead>\n",
       "    <tr style=\"text-align: right;\">\n",
       "      <th></th>\n",
       "      <th>fixed acidity</th>\n",
       "      <th>volatile acidity</th>\n",
       "      <th>citric acid</th>\n",
       "      <th>residual sugar</th>\n",
       "      <th>chlorides</th>\n",
       "      <th>free sulfur dioxide</th>\n",
       "      <th>total sulfur dioxide</th>\n",
       "      <th>density</th>\n",
       "      <th>pH</th>\n",
       "      <th>sulphates</th>\n",
       "      <th>alcohol</th>\n",
       "      <th>quality</th>\n",
       "    </tr>\n",
       "  </thead>\n",
       "  <tbody>\n",
       "    <tr>\n",
       "      <th>0</th>\n",
       "      <td>7.4</td>\n",
       "      <td>0.70</td>\n",
       "      <td>0.00</td>\n",
       "      <td>1.9</td>\n",
       "      <td>0.076</td>\n",
       "      <td>11.0</td>\n",
       "      <td>34.0</td>\n",
       "      <td>0.9978</td>\n",
       "      <td>3.51</td>\n",
       "      <td>0.56</td>\n",
       "      <td>9.4</td>\n",
       "      <td>5</td>\n",
       "    </tr>\n",
       "    <tr>\n",
       "      <th>1</th>\n",
       "      <td>7.8</td>\n",
       "      <td>0.88</td>\n",
       "      <td>0.00</td>\n",
       "      <td>2.6</td>\n",
       "      <td>0.098</td>\n",
       "      <td>25.0</td>\n",
       "      <td>67.0</td>\n",
       "      <td>0.9968</td>\n",
       "      <td>3.20</td>\n",
       "      <td>0.68</td>\n",
       "      <td>9.8</td>\n",
       "      <td>5</td>\n",
       "    </tr>\n",
       "    <tr>\n",
       "      <th>2</th>\n",
       "      <td>7.8</td>\n",
       "      <td>0.76</td>\n",
       "      <td>0.04</td>\n",
       "      <td>2.3</td>\n",
       "      <td>0.092</td>\n",
       "      <td>15.0</td>\n",
       "      <td>54.0</td>\n",
       "      <td>0.9970</td>\n",
       "      <td>3.26</td>\n",
       "      <td>0.65</td>\n",
       "      <td>9.8</td>\n",
       "      <td>5</td>\n",
       "    </tr>\n",
       "    <tr>\n",
       "      <th>3</th>\n",
       "      <td>11.2</td>\n",
       "      <td>0.28</td>\n",
       "      <td>0.56</td>\n",
       "      <td>1.9</td>\n",
       "      <td>0.075</td>\n",
       "      <td>17.0</td>\n",
       "      <td>60.0</td>\n",
       "      <td>0.9980</td>\n",
       "      <td>3.16</td>\n",
       "      <td>0.58</td>\n",
       "      <td>9.8</td>\n",
       "      <td>6</td>\n",
       "    </tr>\n",
       "    <tr>\n",
       "      <th>4</th>\n",
       "      <td>7.4</td>\n",
       "      <td>0.70</td>\n",
       "      <td>0.00</td>\n",
       "      <td>1.9</td>\n",
       "      <td>0.076</td>\n",
       "      <td>11.0</td>\n",
       "      <td>34.0</td>\n",
       "      <td>0.9978</td>\n",
       "      <td>3.51</td>\n",
       "      <td>0.56</td>\n",
       "      <td>9.4</td>\n",
       "      <td>5</td>\n",
       "    </tr>\n",
       "  </tbody>\n",
       "</table>\n",
       "</div>"
      ],
      "text/plain": [
       "   fixed acidity  volatile acidity  citric acid  residual sugar  chlorides  \\\n",
       "0            7.4              0.70         0.00             1.9      0.076   \n",
       "1            7.8              0.88         0.00             2.6      0.098   \n",
       "2            7.8              0.76         0.04             2.3      0.092   \n",
       "3           11.2              0.28         0.56             1.9      0.075   \n",
       "4            7.4              0.70         0.00             1.9      0.076   \n",
       "\n",
       "   free sulfur dioxide  total sulfur dioxide  density    pH  sulphates  \\\n",
       "0                 11.0                  34.0   0.9978  3.51       0.56   \n",
       "1                 25.0                  67.0   0.9968  3.20       0.68   \n",
       "2                 15.0                  54.0   0.9970  3.26       0.65   \n",
       "3                 17.0                  60.0   0.9980  3.16       0.58   \n",
       "4                 11.0                  34.0   0.9978  3.51       0.56   \n",
       "\n",
       "   alcohol  quality  \n",
       "0      9.4        5  \n",
       "1      9.8        5  \n",
       "2      9.8        5  \n",
       "3      9.8        6  \n",
       "4      9.4        5  "
      ]
     },
     "execution_count": 2,
     "metadata": {},
     "output_type": "execute_result"
    }
   ],
   "source": [
    "# Importando o dataset\n",
    "arquivo = pd.read_csv('winequality-red.csv')\n",
    "arquivo.head()"
   ]
  },
  {
   "cell_type": "markdown",
   "id": "2e722722",
   "metadata": {},
   "source": [
    "# Tratamento e exploração dos dados"
   ]
  },
  {
   "cell_type": "markdown",
   "id": "550a337d",
   "metadata": {},
   "source": [
    "### Visualizando o tamanho do dataset"
   ]
  },
  {
   "cell_type": "code",
   "execution_count": 3,
   "id": "3ec298ea",
   "metadata": {},
   "outputs": [
    {
     "data": {
      "text/plain": [
       "(1599, 12)"
      ]
     },
     "execution_count": 3,
     "metadata": {},
     "output_type": "execute_result"
    }
   ],
   "source": [
    "arquivo.shape"
   ]
  },
  {
   "cell_type": "markdown",
   "id": "909e4c63",
   "metadata": {},
   "source": [
    "### Renomeando as colunas"
   ]
  },
  {
   "cell_type": "code",
   "execution_count": 4,
   "id": "f7f33efc",
   "metadata": {},
   "outputs": [],
   "source": [
    "arquivo.columns = ['acidez_fixa', 'acidez_volatil', 'acido_citrico', 'acucar_residual', \n",
    "                   'cloretos', 'dioxido_de_enxofre livre', 'dióxido_de_enxofre_total', \n",
    "                   'densidade', 'pH', 'sulfatos', 'alcool', 'qualidade']"
   ]
  },
  {
   "cell_type": "markdown",
   "id": "b3d7432a",
   "metadata": {},
   "source": [
    "### Visualizando um resumo estatístico sobre o dataset"
   ]
  },
  {
   "cell_type": "code",
   "execution_count": 5,
   "id": "f04115a0",
   "metadata": {},
   "outputs": [
    {
     "data": {
      "text/html": [
       "<div>\n",
       "<style scoped>\n",
       "    .dataframe tbody tr th:only-of-type {\n",
       "        vertical-align: middle;\n",
       "    }\n",
       "\n",
       "    .dataframe tbody tr th {\n",
       "        vertical-align: top;\n",
       "    }\n",
       "\n",
       "    .dataframe thead th {\n",
       "        text-align: right;\n",
       "    }\n",
       "</style>\n",
       "<table border=\"1\" class=\"dataframe\">\n",
       "  <thead>\n",
       "    <tr style=\"text-align: right;\">\n",
       "      <th></th>\n",
       "      <th>count</th>\n",
       "      <th>mean</th>\n",
       "      <th>std</th>\n",
       "      <th>min</th>\n",
       "      <th>25%</th>\n",
       "      <th>50%</th>\n",
       "      <th>75%</th>\n",
       "      <th>max</th>\n",
       "    </tr>\n",
       "  </thead>\n",
       "  <tbody>\n",
       "    <tr>\n",
       "      <th>acidez_fixa</th>\n",
       "      <td>1599.0</td>\n",
       "      <td>8.319637</td>\n",
       "      <td>1.741096</td>\n",
       "      <td>4.60000</td>\n",
       "      <td>7.1000</td>\n",
       "      <td>7.90000</td>\n",
       "      <td>9.200000</td>\n",
       "      <td>15.90000</td>\n",
       "    </tr>\n",
       "    <tr>\n",
       "      <th>acidez_volatil</th>\n",
       "      <td>1599.0</td>\n",
       "      <td>0.527821</td>\n",
       "      <td>0.179060</td>\n",
       "      <td>0.12000</td>\n",
       "      <td>0.3900</td>\n",
       "      <td>0.52000</td>\n",
       "      <td>0.640000</td>\n",
       "      <td>1.58000</td>\n",
       "    </tr>\n",
       "    <tr>\n",
       "      <th>acido_citrico</th>\n",
       "      <td>1599.0</td>\n",
       "      <td>0.270976</td>\n",
       "      <td>0.194801</td>\n",
       "      <td>0.00000</td>\n",
       "      <td>0.0900</td>\n",
       "      <td>0.26000</td>\n",
       "      <td>0.420000</td>\n",
       "      <td>1.00000</td>\n",
       "    </tr>\n",
       "    <tr>\n",
       "      <th>acucar_residual</th>\n",
       "      <td>1599.0</td>\n",
       "      <td>2.538806</td>\n",
       "      <td>1.409928</td>\n",
       "      <td>0.90000</td>\n",
       "      <td>1.9000</td>\n",
       "      <td>2.20000</td>\n",
       "      <td>2.600000</td>\n",
       "      <td>15.50000</td>\n",
       "    </tr>\n",
       "    <tr>\n",
       "      <th>cloretos</th>\n",
       "      <td>1599.0</td>\n",
       "      <td>0.087467</td>\n",
       "      <td>0.047065</td>\n",
       "      <td>0.01200</td>\n",
       "      <td>0.0700</td>\n",
       "      <td>0.07900</td>\n",
       "      <td>0.090000</td>\n",
       "      <td>0.61100</td>\n",
       "    </tr>\n",
       "    <tr>\n",
       "      <th>dioxido_de_enxofre livre</th>\n",
       "      <td>1599.0</td>\n",
       "      <td>15.874922</td>\n",
       "      <td>10.460157</td>\n",
       "      <td>1.00000</td>\n",
       "      <td>7.0000</td>\n",
       "      <td>14.00000</td>\n",
       "      <td>21.000000</td>\n",
       "      <td>72.00000</td>\n",
       "    </tr>\n",
       "    <tr>\n",
       "      <th>dióxido_de_enxofre_total</th>\n",
       "      <td>1599.0</td>\n",
       "      <td>46.467792</td>\n",
       "      <td>32.895324</td>\n",
       "      <td>6.00000</td>\n",
       "      <td>22.0000</td>\n",
       "      <td>38.00000</td>\n",
       "      <td>62.000000</td>\n",
       "      <td>289.00000</td>\n",
       "    </tr>\n",
       "    <tr>\n",
       "      <th>densidade</th>\n",
       "      <td>1599.0</td>\n",
       "      <td>0.996747</td>\n",
       "      <td>0.001887</td>\n",
       "      <td>0.99007</td>\n",
       "      <td>0.9956</td>\n",
       "      <td>0.99675</td>\n",
       "      <td>0.997835</td>\n",
       "      <td>1.00369</td>\n",
       "    </tr>\n",
       "    <tr>\n",
       "      <th>pH</th>\n",
       "      <td>1599.0</td>\n",
       "      <td>3.311113</td>\n",
       "      <td>0.154386</td>\n",
       "      <td>2.74000</td>\n",
       "      <td>3.2100</td>\n",
       "      <td>3.31000</td>\n",
       "      <td>3.400000</td>\n",
       "      <td>4.01000</td>\n",
       "    </tr>\n",
       "    <tr>\n",
       "      <th>sulfatos</th>\n",
       "      <td>1599.0</td>\n",
       "      <td>0.658149</td>\n",
       "      <td>0.169507</td>\n",
       "      <td>0.33000</td>\n",
       "      <td>0.5500</td>\n",
       "      <td>0.62000</td>\n",
       "      <td>0.730000</td>\n",
       "      <td>2.00000</td>\n",
       "    </tr>\n",
       "    <tr>\n",
       "      <th>alcool</th>\n",
       "      <td>1599.0</td>\n",
       "      <td>10.422983</td>\n",
       "      <td>1.065668</td>\n",
       "      <td>8.40000</td>\n",
       "      <td>9.5000</td>\n",
       "      <td>10.20000</td>\n",
       "      <td>11.100000</td>\n",
       "      <td>14.90000</td>\n",
       "    </tr>\n",
       "    <tr>\n",
       "      <th>qualidade</th>\n",
       "      <td>1599.0</td>\n",
       "      <td>5.636023</td>\n",
       "      <td>0.807569</td>\n",
       "      <td>3.00000</td>\n",
       "      <td>5.0000</td>\n",
       "      <td>6.00000</td>\n",
       "      <td>6.000000</td>\n",
       "      <td>8.00000</td>\n",
       "    </tr>\n",
       "  </tbody>\n",
       "</table>\n",
       "</div>"
      ],
      "text/plain": [
       "                           count       mean        std      min      25%  \\\n",
       "acidez_fixa               1599.0   8.319637   1.741096  4.60000   7.1000   \n",
       "acidez_volatil            1599.0   0.527821   0.179060  0.12000   0.3900   \n",
       "acido_citrico             1599.0   0.270976   0.194801  0.00000   0.0900   \n",
       "acucar_residual           1599.0   2.538806   1.409928  0.90000   1.9000   \n",
       "cloretos                  1599.0   0.087467   0.047065  0.01200   0.0700   \n",
       "dioxido_de_enxofre livre  1599.0  15.874922  10.460157  1.00000   7.0000   \n",
       "dióxido_de_enxofre_total  1599.0  46.467792  32.895324  6.00000  22.0000   \n",
       "densidade                 1599.0   0.996747   0.001887  0.99007   0.9956   \n",
       "pH                        1599.0   3.311113   0.154386  2.74000   3.2100   \n",
       "sulfatos                  1599.0   0.658149   0.169507  0.33000   0.5500   \n",
       "alcool                    1599.0  10.422983   1.065668  8.40000   9.5000   \n",
       "qualidade                 1599.0   5.636023   0.807569  3.00000   5.0000   \n",
       "\n",
       "                               50%        75%        max  \n",
       "acidez_fixa                7.90000   9.200000   15.90000  \n",
       "acidez_volatil             0.52000   0.640000    1.58000  \n",
       "acido_citrico              0.26000   0.420000    1.00000  \n",
       "acucar_residual            2.20000   2.600000   15.50000  \n",
       "cloretos                   0.07900   0.090000    0.61100  \n",
       "dioxido_de_enxofre livre  14.00000  21.000000   72.00000  \n",
       "dióxido_de_enxofre_total  38.00000  62.000000  289.00000  \n",
       "densidade                  0.99675   0.997835    1.00369  \n",
       "pH                         3.31000   3.400000    4.01000  \n",
       "sulfatos                   0.62000   0.730000    2.00000  \n",
       "alcool                    10.20000  11.100000   14.90000  \n",
       "qualidade                  6.00000   6.000000    8.00000  "
      ]
     },
     "execution_count": 5,
     "metadata": {},
     "output_type": "execute_result"
    }
   ],
   "source": [
    "arquivo.describe().T"
   ]
  },
  {
   "cell_type": "markdown",
   "id": "e332ae49",
   "metadata": {},
   "source": [
    "### Visualizando se há valores ausentes no dataset"
   ]
  },
  {
   "cell_type": "code",
   "execution_count": 6,
   "id": "2bbc568f",
   "metadata": {},
   "outputs": [
    {
     "data": {
      "text/plain": [
       "acidez_fixa                 0\n",
       "acidez_volatil              0\n",
       "acido_citrico               0\n",
       "acucar_residual             0\n",
       "cloretos                    0\n",
       "dioxido_de_enxofre livre    0\n",
       "dióxido_de_enxofre_total    0\n",
       "densidade                   0\n",
       "pH                          0\n",
       "sulfatos                    0\n",
       "alcool                      0\n",
       "qualidade                   0\n",
       "dtype: int64"
      ]
     },
     "execution_count": 6,
     "metadata": {},
     "output_type": "execute_result"
    }
   ],
   "source": [
    "arquivo.isnull().sum()"
   ]
  },
  {
   "cell_type": "markdown",
   "id": "b34df4f9",
   "metadata": {},
   "source": [
    "# Visualizando o histograma de cada coluna\n",
    "Dessa forma, conseguimos compreender melhor nossas variáveis"
   ]
  },
  {
   "cell_type": "code",
   "execution_count": 7,
   "id": "a1464173",
   "metadata": {},
   "outputs": [
    {
     "data": {
      "image/png": "[encoded data removed]",
      "text/plain": [
       "<Figure size 864x432 with 12 Axes>"
      ]
     },
     "metadata": {
      "needs_background": "light"
     },
     "output_type": "display_data"
    }
   ],
   "source": [
    "# Criando um subplot com 3 linhas e 4 colunas\n",
    "f, ax = plt.subplots(3, 4, figsize=(12,6))\n",
    "\n",
    "colunas = list(arquivo.columns)\n",
    "\n",
    "for i in range(3):\n",
    "    for a in range(4):\n",
    "        ax[i,a].hist(arquivo[colunas[0]], bins = 6)\n",
    "        ax[i,a].set_title(colunas[0])\n",
    "        del(colunas[0])\n",
    "\n",
    "plt.tight_layout()\n",
    "plt.show()"
   ]
  },
  {
   "cell_type": "markdown",
   "id": "70f5ec17",
   "metadata": {},
   "source": [
    "### Caso tenha linhas duplicas, vamos removê-las"
   ]
  },
  {
   "cell_type": "code",
   "execution_count": 8,
   "id": "7022c6d5",
   "metadata": {},
   "outputs": [
    {
     "name": "stdout",
     "output_type": "stream",
     "text": [
      "(1599, 12)\n"
     ]
    }
   ],
   "source": [
    "arquivo.drop_duplicates()\n",
    "print(arquivo.shape)"
   ]
  },
  {
   "cell_type": "markdown",
   "id": "ca8b5189",
   "metadata": {},
   "source": [
    "### Mudando a classificação dos vinhos\n",
    "Vinhos classificados como bons possuem nota >= 7 e vinhos classificados como ruins possuem notas < 7"
   ]
  },
  {
   "cell_type": "code",
   "execution_count": 9,
   "id": "42a961ed",
   "metadata": {},
   "outputs": [],
   "source": [
    "arquivo['qualidade'].replace([x for x in range(7)], 0, inplace = True)\n",
    "arquivo['qualidade'].replace([x for x in range(7, 11)], 1, inplace = True)"
   ]
  },
  {
   "cell_type": "markdown",
   "id": "8f6b87d4",
   "metadata": {},
   "source": [
    "### Separando as variáveis"
   ]
  },
  {
   "cell_type": "code",
   "execution_count": 10,
   "id": "163d6c5a",
   "metadata": {},
   "outputs": [],
   "source": [
    "X = arquivo.drop('qualidade', axis = 1)\n",
    "y = arquivo['qualidade']"
   ]
  },
  {
   "cell_type": "markdown",
   "id": "a62f2fd4",
   "metadata": {},
   "source": [
    "### Normalizando a variável X\n",
    "Como visto pelos histogramas, as variáveis possuem proporções numéricas bem distintas."
   ]
  },
  {
   "cell_type": "code",
   "execution_count": 11,
   "id": "b134153a",
   "metadata": {},
   "outputs": [],
   "source": [
    "normalizador = StandardScaler()\n",
    "X_norm = normalizador.fit_transform(X)"
   ]
  },
  {
   "cell_type": "markdown",
   "id": "1f50bd98",
   "metadata": {},
   "source": [
    "### Visualizando o balanceamento do dataset"
   ]
  },
  {
   "cell_type": "code",
   "execution_count": 12,
   "id": "5337f6a5",
   "metadata": {},
   "outputs": [
    {
     "data": {
      "image/png": "[encoded data removed]",
      "text/plain": [
       "<Figure size 432x288 with 1 Axes>"
      ]
     },
     "metadata": {
      "needs_background": "light"
     },
     "output_type": "display_data"
    }
   ],
   "source": [
    "sns.countplot(x = y);"
   ]
  },
  {
   "cell_type": "markdown",
   "id": "6894272b",
   "metadata": {},
   "source": [
    "# Criando o modelo preditivo (sem balancear)"
   ]
  },
  {
   "cell_type": "markdown",
   "id": "18c05726",
   "metadata": {},
   "source": [
    "### Separando as variáveis em treino e teste"
   ]
  },
  {
   "cell_type": "code",
   "execution_count": 13,
   "id": "f8e6a82c",
   "metadata": {},
   "outputs": [],
   "source": [
    "X_train, X_test, y_train, y_test = train_test_split(X_norm, y, test_size = 0.3, random_state = 123)"
   ]
  },
  {
   "cell_type": "markdown",
   "id": "b3ed0145",
   "metadata": {},
   "source": [
    "### Criando o modelo"
   ]
  },
  {
   "cell_type": "code",
   "execution_count": 14,
   "id": "58a1595b",
   "metadata": {},
   "outputs": [],
   "source": [
    "modelo = DecisionTreeClassifier(random_state = 123)"
   ]
  },
  {
   "cell_type": "markdown",
   "id": "4d3982eb",
   "metadata": {},
   "source": [
    "### Treinando a máquina para fazer predições"
   ]
  },
  {
   "cell_type": "code",
   "execution_count": 15,
   "id": "39bc377a",
   "metadata": {
    "scrolled": false
   },
   "outputs": [
    {
     "name": "stdout",
     "output_type": "stream",
     "text": [
      "Acurácia é de: 86.25%.\n"
     ]
    }
   ],
   "source": [
    "modelo.fit(X_train, y_train)\n",
    "acr = round(modelo.score(X_test, y_test)*100, 2)\n",
    "print(f'Acurácia é de: {acr}%.')"
   ]
  },
  {
   "cell_type": "markdown",
   "id": "a7648277",
   "metadata": {},
   "source": [
    "### Prevendo os valores de teste"
   ]
  },
  {
   "cell_type": "code",
   "execution_count": 16,
   "id": "8137dd0a",
   "metadata": {},
   "outputs": [],
   "source": [
    "y_prev = modelo.predict(X_test)"
   ]
  },
  {
   "cell_type": "markdown",
   "id": "f4ec7b87",
   "metadata": {},
   "source": [
    "### Matriz de confusão"
   ]
  },
  {
   "cell_type": "code",
   "execution_count": 17,
   "id": "442c0f90",
   "metadata": {
    "scrolled": true
   },
   "outputs": [
    {
     "data": {
      "image/png": "[encoded data removed]",
      "text/plain": [
       "<Figure size 432x288 with 2 Axes>"
      ]
     },
     "metadata": {
      "needs_background": "light"
     },
     "output_type": "display_data"
    }
   ],
   "source": [
    "matriz = confusion_matrix(y_test, y_prev)\n",
    "\n",
    "sns.heatmap(matriz, vmin = 0, vmax = 50, annot = True, cmap = 'magma', fmt='.5g');\n",
    "plt.ylabel('Valor real')\n",
    "plt.xlabel('Valor predito');"
   ]
  },
  {
   "cell_type": "code",
   "execution_count": 18,
   "id": "08441a4d",
   "metadata": {},
   "outputs": [],
   "source": [
    "metricas = classification_report(y_test, y_prev)"
   ]
  },
  {
   "cell_type": "markdown",
   "id": "0ed9300e",
   "metadata": {},
   "source": [
    "# Criando o modelo preditivo (balanceando)\n",
    "* Utilizando o método de oversampling"
   ]
  },
  {
   "cell_type": "markdown",
   "id": "8a3104b5",
   "metadata": {},
   "source": [
    "### Balanceando a variável y"
   ]
  },
  {
   "cell_type": "code",
   "execution_count": 19,
   "id": "b527cd87",
   "metadata": {},
   "outputs": [
    {
     "data": {
      "image/png": "[encoded data removed]",
      "text/plain": [
       "<Figure size 432x288 with 1 Axes>"
      ]
     },
     "metadata": {
      "needs_background": "light"
     },
     "output_type": "display_data"
    }
   ],
   "source": [
    "smt = SMOTE()\n",
    "X_over, y_over = smt.fit_resample(X_norm, y)\n",
    "sns.countplot(x = y_over);"
   ]
  },
  {
   "cell_type": "markdown",
   "id": "40588c48",
   "metadata": {},
   "source": [
    "### Separando as variáveis em treino e teste"
   ]
  },
  {
   "cell_type": "code",
   "execution_count": 20,
   "id": "8bec33f5",
   "metadata": {},
   "outputs": [],
   "source": [
    "X_train, X_test, y_train, y_test = train_test_split(X_over, y_over, \n",
    "                                                    test_size = 0.3, random_state = 123)"
   ]
  },
  {
   "cell_type": "markdown",
   "id": "c197e4da",
   "metadata": {},
   "source": [
    "### Criando o modelo"
   ]
  },
  {
   "cell_type": "code",
   "execution_count": 21,
   "id": "776c8c45",
   "metadata": {},
   "outputs": [],
   "source": [
    "modelo = DecisionTreeClassifier(random_state = 123)"
   ]
  },
  {
   "cell_type": "markdown",
   "id": "514f3403",
   "metadata": {},
   "source": [
    "### Treinando o modelo para fazer predições"
   ]
  },
  {
   "cell_type": "code",
   "execution_count": 22,
   "id": "1aeaede2",
   "metadata": {},
   "outputs": [
    {
     "name": "stdout",
     "output_type": "stream",
     "text": [
      "Acurácia é de: 89.88%.\n"
     ]
    }
   ],
   "source": [
    "modelo.fit(X_train, y_train)\n",
    "acr_over = round(modelo.score(X_test, y_test)*100, 2)\n",
    "print(f'Acurácia é de: {acr_over}%.')"
   ]
  },
  {
   "cell_type": "markdown",
   "id": "7cffd8cd",
   "metadata": {},
   "source": [
    "### Prevendo os valores de teste"
   ]
  },
  {
   "cell_type": "code",
   "execution_count": 23,
   "id": "72caf2c1",
   "metadata": {},
   "outputs": [],
   "source": [
    "y_prev_over = modelo.predict(X_test)"
   ]
  },
  {
   "cell_type": "markdown",
   "id": "37eedb82",
   "metadata": {},
   "source": [
    "### Matriz de confusão"
   ]
  },
  {
   "cell_type": "code",
   "execution_count": 24,
   "id": "d34ac314",
   "metadata": {
    "scrolled": true
   },
   "outputs": [
    {
     "data": {
      "image/png": "[encoded data removed]",
      "text/plain": [
       "<Figure size 432x288 with 2 Axes>"
      ]
     },
     "metadata": {
      "needs_background": "light"
     },
     "output_type": "display_data"
    }
   ],
   "source": [
    "matriz = confusion_matrix(y_test, y_prev_over)\n",
    "\n",
    "sns.heatmap(matriz, vmin = 0, vmax = 50, annot = True, cmap = 'magma', fmt='.5g');\n",
    "plt.ylabel('Valor real')\n",
    "plt.xlabel('Valor predito');"
   ]
  },
  {
   "cell_type": "code",
   "execution_count": 25,
   "id": "c8cfa3aa",
   "metadata": {},
   "outputs": [],
   "source": [
    "metricas_over = classification_report(y_test, y_prev_over)"
   ]
  },
  {
   "cell_type": "markdown",
   "id": "25c86ef0",
   "metadata": {},
   "source": [
    "* Utilizando o método de undersampling"
   ]
  },
  {
   "cell_type": "markdown",
   "id": "f028fa50",
   "metadata": {},
   "source": [
    "### Balanceando a variável y"
   ]
  },
  {
   "cell_type": "code",
   "execution_count": 26,
   "id": "56e2aec6",
   "metadata": {},
   "outputs": [
    {
     "data": {
      "image/png": "[encoded data removed]",
      "text/plain": [
       "<Figure size 432x288 with 1 Axes>"
      ]
     },
     "metadata": {
      "needs_background": "light"
     },
     "output_type": "display_data"
    }
   ],
   "source": [
    "nm = NearMiss(version=1)\n",
    "X_nm, y_nm = nm.fit_resample(X_norm, y)\n",
    "sns.countplot(x = y_nm);"
   ]
  },
  {
   "cell_type": "markdown",
   "id": "3f3e4099",
   "metadata": {},
   "source": [
    "### Separando as variáveis em treino e teste"
   ]
  },
  {
   "cell_type": "code",
   "execution_count": 27,
   "id": "ac5a4446",
   "metadata": {},
   "outputs": [],
   "source": [
    "X_train, X_test, y_train, y_test = train_test_split(X_nm, y_nm, \n",
    "                                                    test_size = 0.3, random_state = 123)"
   ]
  },
  {
   "cell_type": "markdown",
   "id": "a72c8fcb",
   "metadata": {},
   "source": [
    "### Criando o modelo"
   ]
  },
  {
   "cell_type": "code",
   "execution_count": 28,
   "id": "70021026",
   "metadata": {},
   "outputs": [],
   "source": [
    "modelo = DecisionTreeClassifier(random_state = 123)"
   ]
  },
  {
   "cell_type": "markdown",
   "id": "8ce4782c",
   "metadata": {},
   "source": [
    "### Treinando o modelo para fazer predições"
   ]
  },
  {
   "cell_type": "code",
   "execution_count": 29,
   "id": "2a523ea3",
   "metadata": {},
   "outputs": [
    {
     "name": "stdout",
     "output_type": "stream",
     "text": [
      "Acurácia é de: 72.52%.\n"
     ]
    }
   ],
   "source": [
    "modelo.fit(X_train, y_train)\n",
    "acr_under = round(modelo.score(X_test, y_test)*100, 2)\n",
    "print(f'Acurácia é de: {acr_under}%.')"
   ]
  },
  {
   "cell_type": "markdown",
   "id": "8a192186",
   "metadata": {},
   "source": [
    "### Prevendo os valores de teste"
   ]
  },
  {
   "cell_type": "code",
   "execution_count": 30,
   "id": "54bcae04",
   "metadata": {},
   "outputs": [],
   "source": [
    "y_prev_under = modelo.predict(X_test)"
   ]
  },
  {
   "cell_type": "markdown",
   "id": "3efa0c84",
   "metadata": {},
   "source": [
    "### Matriz de confusão"
   ]
  },
  {
   "cell_type": "code",
   "execution_count": 31,
   "id": "e6681955",
   "metadata": {
    "scrolled": true
   },
   "outputs": [
    {
     "data": {
      "image/png": "[encoded data removed]",
      "text/plain": [
       "<Figure size 432x288 with 2 Axes>"
      ]
     },
     "metadata": {
      "needs_background": "light"
     },
     "output_type": "display_data"
    }
   ],
   "source": [
    "matriz = confusion_matrix(y_test, y_prev_under)\n",
    "\n",
    "sns.heatmap(matriz, vmin = 0, vmax = 50, annot = True, cmap = 'magma', fmt='.5g');\n",
    "plt.ylabel('Valor real')\n",
    "plt.xlabel('Valor predito');"
   ]
  },
  {
   "cell_type": "code",
   "execution_count": 32,
   "id": "db0424a1",
   "metadata": {},
   "outputs": [],
   "source": [
    "metricas_under = classification_report(y_test, y_prev_under)"
   ]
  },
  {
   "cell_type": "markdown",
   "id": "74dcd2f4",
   "metadata": {},
   "source": [
    "### Compando os diferentes resultados"
   ]
  },
  {
   "cell_type": "code",
   "execution_count": 33,
   "id": "4876813f",
   "metadata": {},
   "outputs": [
    {
     "name": "stdout",
     "output_type": "stream",
     "text": [
      "Métricas sem balanceamento\n",
      "\n",
      "              precision    recall  f1-score   support\n",
      "\n",
      "           0       0.93      0.91      0.92       417\n",
      "           1       0.48      0.56      0.51        63\n",
      "\n",
      "    accuracy                           0.86       480\n",
      "   macro avg       0.71      0.73      0.72       480\n",
      "weighted avg       0.87      0.86      0.87       480\n",
      "\n",
      "------------------------------------------------------\n",
      "Métricas com balanceamento (Over)\n",
      "\n",
      "              precision    recall  f1-score   support\n",
      "\n",
      "           0       0.91      0.88      0.89       406\n",
      "           1       0.89      0.92      0.90       424\n",
      "\n",
      "    accuracy                           0.90       830\n",
      "   macro avg       0.90      0.90      0.90       830\n",
      "weighted avg       0.90      0.90      0.90       830\n",
      "\n",
      "------------------------------------------------------\n",
      "Métricas com balanceamento (Under)\n",
      "\n",
      "              precision    recall  f1-score   support\n",
      "\n",
      "           0       0.71      0.79      0.75        68\n",
      "           1       0.75      0.65      0.69        63\n",
      "\n",
      "    accuracy                           0.73       131\n",
      "   macro avg       0.73      0.72      0.72       131\n",
      "weighted avg       0.73      0.73      0.72       131\n",
      "\n"
     ]
    }
   ],
   "source": [
    "print('Métricas sem balanceamento\\n')\n",
    "print(metricas)\n",
    "print('------------------------------------------------------')\n",
    "\n",
    "print('Métricas com balanceamento (Over)\\n')\n",
    "print(metricas_over)\n",
    "print('------------------------------------------------------')\n",
    "\n",
    "print('Métricas com balanceamento (Under)\\n')\n",
    "print(metricas_under)"
   ]
  },
  {
   "cell_type": "markdown",
   "id": "d08b84bd",
   "metadata": {},
   "source": [
    "# Conclusão"
   ]
  },
  {
   "cell_type": "markdown",
   "id": "afe311b4",
   "metadata": {},
   "source": [
    "Comparando as estatísticas, podemos visualizar que a nossa acurácia melhorou com o balanceamento pelo método de oversampling, porém piorou quando usamos o método de undersampling. Isso pode ter ocorrido pois nesse método perdemos grande parte da nossa amostra.\n",
    "\n",
    "Entretanto, se olharmos somente para as métricas com valores preditos igual a 1, podemos notar um aumento expressivo nos dois métodos. Logo, se o seu objetivo for voltado apenas para os vinhos classificados como bom, mesmo perdendo acurácia pelo método de undersampling, ainda valerá a pena balancear.\n",
    "\n",
    "Vale ressaltar que a acurácia do modelo sem balanceamento está alta devido a um provável overfitting, pois como nossa base está de balanceada, corremos o risco do nosso modelo prever todos os valores como 0. Portanto, é muito importante se questionar sobre qual é o objetivo de criar esse modelo, para após esse reflexão escolher qual métrica é a melhor a ser analisada."
   ]
  },
  {
   "cell_type": "markdown",
   "id": "270b8caa",
   "metadata": {},
   "source": [
    "# Exemplo de um possível case\n",
    "Digamos que uma adega resolva contratar um cientista de dados, pois pretende realizar um investimento em uma produção de vinhos. Entretanto, o empresário queria comprar apenas modelos que são considerados bons, pois assim irá revender mais rápido.\n",
    "\n",
    "Diante desse problema, podemos utilizar o modelo criado acima. Mais uma vez, vale a pena ressaltar a importância de balancear os dados, pois dessa forma nosso algoritmo ficou mais robusto para classificar vinhos considerados bons, deste possibilitando uma maior lucrativado para o empresário."
   ]
  }
 ],
 "metadata": {
  "kernelspec": {
   "display_name": "Python 3 (ipykernel)",
   "language": "python",
   "name": "python3"
  },
  "language_info": {
   "codemirror_mode": {
    "name": "ipython",
    "version": 3
   },
   "file_extension": ".py",
   "mimetype": "text/x-python",
   "name": "python",
   "nbconvert_exporter": "python",
   "pygments_lexer": "ipython3",
   "version": "3.9.12"
  }
 },
 "nbformat": 4,
 "nbformat_minor": 5
}
